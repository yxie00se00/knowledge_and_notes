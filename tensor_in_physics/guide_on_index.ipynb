{
 "cells": [
  {
   "cell_type": "markdown",
   "metadata": {},
   "source": [
    "# 指标技巧\n",
    "---"
   ]
  },
  {
   "cell_type": "markdown",
   "metadata": {},
   "source": [
    "### 指标记号与爱因斯坦求和规则"
   ]
  },
  {
   "cell_type": "markdown",
   "metadata": {},
   "source": [
    "指标可以被用于任何需要标记分量顺序的场合，最基本的情况是表达行矢量和列矢量\n",
    "$$ w=\\begin{pmatrix}w_1,w_2,\\ldots,w_n\\end{pmatrix}\n",
    "    ,\\quad v=\\begin{pmatrix}v^1\\\\v^2\\\\\\vdots\\\\v^n\\end{pmatrix}$$\n",
    "注意行矢量分量的指标（列指标）一般是下标，而列矢量分量的指标（行指标）一般是上标<sup>1</sup>。如果需要表达一个矩阵，与之类似\n",
    "$$ M=\\begin{pmatrix}\n",
    "        M^1_{~1} & M^1_{~2} & \\cdots & M^1_{~n} \\\\\n",
    "        M^2_{~1} & M^2_{~2} & \\cdots & M^2_{~n} \\\\\n",
    "        \\vdots   & \\vdots   & \\ddots & \\vdots   \\\\\n",
    "        M^n_{~1} & M^n_{~2} & \\cdots & M^n_{~n}\n",
    "    \\end{pmatrix} $$\n",
    "当进行矩阵乘法时，我们对各个分量实施数乘并求和，例如点积\n",
    "$$ w\\cdot v = \\sum_{i=1}^nw_iv^i $$\n",
    "爱因斯坦求和规则指的是，当相乘的两项各带一个上指标和一个下指标，且两指标符号相同时，默认对该指标求和，故略去相应的求和号。当所有指标都从 $1,2,\\ldots,n$ 中取值时，该求和规则是绝对安全的。上式因此变得更加紧凑\n",
    "$$ w\\cdot v = w_iv^i $$\n",
    "注意到求和后指标 $i$ 消失，因此我们也可以把它写作 $j,k,l$ 或者其它任意字符，这样的指标被称为“哑指标”，而通过求和消去一对哑指标的过程在张量层面被称作“缩并”。如果我们让矩阵参与运算\n",
    "$$ (Mv)^i = M^i_{~j}v^j,\\quad (wM)_i=w_jM^j_{~i} \\\\ \n",
    "    (MN)^i_{~j}=M^i_{~k}N^k_{~j}, \\quad\\mathrm{Tr}(M)=M^i_{~i} $$\n",
    "使用指标记号后，分量数乘一般不用照顾先后顺序，但是为了较为清晰地展现缩并关系，我们应当让参与缩并的两个指标尽量靠近<sup>2</sup>。另外，若张量本身具有上下标标记，则应当注意使之与分量指标区分，通常是先加括号再赋予分量指标，例如\n",
    "$$ (M_\\mathrm{\\uparrow\\downarrow})^i_{~j},~~(M^{-1})^i_{~j} $$\n",
    "\n",
    "指标记号与爱因斯坦求和规则的作用随着所处理张量阶数的增加而越发显著，在处理三阶及以上的张量时几乎成为必选手段<sup>3</sup>。高阶张量通常难以在纸面上直观表现，而相关的乘法也通常导致多重求和，此时指标记号使理解它们的运算性质变为可能，同时爱因斯坦求和规则大大简化了书写。对于高阶张量的指标记号，由于没有明确的“行”、“列”概念，指标的位置由该张量与其它张量缩并的行为决定。\n",
    "\n",
    "#### 注：\n",
    "1. 这与张量分析中“协变”和“逆变”的区分是一体的，但是很多场合下需求并不那么严格，例如常见的三维欧式空间中，正交归一基的选取使得度规为 $\\delta_{ij}$，此时不作区分是较为方便的，常见的做法是统一使用下标。\n",
    "2. 如果严格按此操作，对于二阶及以下张量的缩并，我们应当期望看到一般矩阵乘法所规定的顺序。\n",
    "3. 矩阵可以被视为二阶张量的一种表示，行矢量、列矢量对应一阶张量，而单独的数字对应零阶张量，张量阶数与表示该张量所需的指标数量是一致的。"
   ]
  },
  {
   "cell_type": "markdown",
   "metadata": {},
   "source": [
    "### Kronecker $\\delta$ 与 Levi-Civita $\\epsilon$"
   ]
  },
  {
   "cell_type": "markdown",
   "metadata": {},
   "source": [
    "Kronecker $\\delta$ 与 Levi-Civita $\\epsilon$ 是在欧氏空间指标运算中十分常见的记号，它们的定义是\n",
    "$$ \\delta^i_{~j}=\\begin{cases}\n",
    "        1 & i=j \\\\\n",
    "        0 & i\\neq j\n",
    "    \\end{cases}\n",
    "    ,\\quad\n",
    "    \\epsilon_{i_1i_2\\ldots i_n}=\\begin{cases}\n",
    "        1 & i_1,i_2,\\ldots,i_n \\textrm{ 构成 } 1,2,\\ldots,n \\textrm{ 的偶排列} \\\\\n",
    "        -1 & i_1,i_2,\\ldots,i_n \\textrm{ 构成 } 1,2,\\ldots,n \\textrm{ 的奇排列} \\\\\n",
    "        0 & \\textrm{其余情况}\n",
    "    \\end{cases} $$\n",
    "对于选取了正交归一基的欧式空间，指标作为上标或者下标出现时是等价的，我们可以随意升降 $\\delta$ 和 $\\epsilon$ 的指标而不影响其所代表的数值。对于我们熟悉的三维欧氏空间，在正交归一基表示下，标量积和矢量积分别为\n",
    "$$ A\\cdot B=\\delta_{ij}A^iB^j,\\quad (A\\times B)^i=\\epsilon^i_{~jk}A^jB^k $$\n",
    "这使很多复杂的矢量复合乘法的化简过程变得简单紧凑，例如著名的三重积\n",
    "$$\\begin{aligned}\\big(A\\times (B\\times C)\\big)^i&=\\epsilon^i_{~jk}A^j(B\\times C)^k\n",
    "    =\\epsilon^i_{~jk}\\epsilon^k_{~lm}A^jB^lC^m \\\\\n",
    "    &=\\delta^i_{~l}\\delta_{jm}A^jB^lC^m-\\delta^i_{~m}\\delta_{jl}A^jB^lC^m \\\\\n",
    "    &=B^i(A\\cdot C)-C^i(A\\cdot B)\n",
    "\\end{aligned}$$\n",
    "也就是\n",
    "$$ A\\times (B\\times C)=B~(A\\cdot C)-C~(A\\cdot B) $$\n",
    "这里面用到了两个 $\\epsilon$ 缩并化为一串 $\\delta$ 的技巧\n",
    "$$ \\epsilon_{ijk}\\epsilon^{ilm}=\\delta_j^{~l}\\delta_k^{~m}-\\delta_j^{~m}\\delta_k^{~l} $$\n",
    "如果我们引入广义 Kronecker $\\delta$\n",
    "$$ \\delta^{i_1i_2\\ldots i_p}_{j_1j_2\\ldots j_p}=\\begin{cases}\n",
    "        1 & i_1,i_2,\\ldots,i_p\\textrm{ 互不相等且构成 } j_1,j_2,\\ldots,j_p \\textrm{ 的偶排列} \\\\\n",
    "        -1 & i_1,i_2,\\ldots,i_p\\textrm{ 互不相等且构成 } j_1,j_2,\\ldots,j_p \\textrm{ 的奇排列} \\\\\n",
    "        0 & \\textrm{其余情况}\n",
    "    \\end{cases}$$\n",
    "那么高维 $\\epsilon$ 之间的缩并可以总结为\n",
    "$$ \\epsilon_{i_1\\ldots i_p,j_{1}\\ldots j_{n-p}}\\epsilon^{i_1\\ldots i_p,k_{1}\\ldots k_{n-p}}=p!~\\delta^{k_{1}\\ldots k_{n-p}}_{j_{1}\\ldots j_{n-p}} $$\n",
    "$\\delta$ 和 $\\epsilon$ 与行列式有着高度关联。利用 $\\delta$ 和 $\\epsilon$，矩阵 $M$ 的行列式、子式和代数余子式可以分别表达为\n",
    "$$ \\begin{aligned}\n",
    "    \\det(M)&=\\delta^{j_1j_2\\ldots j_n}_{i_1i_2\\ldots i_n}M^{i_1}_{~j_1}M^{i_2}_{~j_2}\\cdots M^{i_n}_{~j_n} \\\\\n",
    "    \\det\\Big(M^{i_1i_2\\ldots i_p}_{j_1j_2\\ldots j_p}\\Big)&=\\delta^{k_1k_2\\ldots k_p}_{j_1j_2\\ldots j_p}M^{i_1}_{~k_1}M^{i_2}_{~k_p}\\cdots M^{i_p}_{~k_p} \\\\\n",
    "    \\det\\Big(M^\\overline{i_1i_2\\ldots i_p}_\\overline{j_1j_2\\ldots j_p}\\Big)&=\\frac{1}{(n-p)!}\\epsilon^{i_1i_2\\ldots i_p}_{k_1k_2\\ldots k_{n-p}}\\epsilon^{l_1l_2\\ldots l_{n-p}}_{j_1j_2\\ldots j_p}M^{k_1}_{~l_1}M^{k_2}_{~l_2}\\cdots M^{k_{n-p}}_{~l_{n-p}}\n",
    "\\end{aligned} $$\n",
    "有兴趣的读者不妨尝试据此证明\n",
    "$$ \\det|M| = \\frac{1}{p!}\\sum_{\\substack{i_1,i_2,\\ldots,i_p\\\\j_1,j_2,\\ldots,j_p}}\\det\\Big(M^{i_1i_2\\ldots i_p}_{j_1j_2\\ldots j_p}\\Big)\\det\\Big(M^\\overline{i_1i_2\\ldots i_p}_\\overline{j_1j_2\\ldots j_p}\\Big) $$\n",
    "其中 $p!$ 因子的出现是为了消除重复排列。"
   ]
  },
  {
   "cell_type": "markdown",
   "metadata": {},
   "source": [
    "### 附：术语的中英文对照表"
   ]
  },
  {
   "cell_type": "markdown",
   "metadata": {},
   "source": [
    "| 中文           | 英文           |\n",
    "| ------------- |:-------------:|\n",
    "| 分量           | component     |\n",
    "| 指标           | index         |\n",
    "| 哑指标         | dummy index   |\n",
    "| 爱因斯坦求和规则 | Einstein notation |\n",
    "| 缩并           | contraction   |\n",
    "| 张量           | tensor        |\n",
    "| （张量的）阶    | order (of a tensor) |\n",
    "| 偶排列         | even pertubation |\n",
    "| 奇排列         | odd pertubation |\n",
    "| 点积           | dot product   |\n",
    "| 标量积         | scalar product |\n",
    "| 矢量积         | vector product |\n",
    "| 三重积         | triple product |\n",
    "| 欧氏空间        | Euclidean space |\n",
    "| 正交归一基      | orthonormal basis |\n",
    "| 协变           | covariant     |\n",
    "| 逆变           | contravariant |\n",
    "| 度规           | metric        |\n",
    "| 行列式         | determinant   |\n",
    "| 子式           | minor         |\n",
    "| 余子式         | complement    |"
   ]
  }
 ],
 "metadata": {
  "kernelspec": {
   "display_name": "Python 3",
   "language": "python",
   "name": "python3"
  },
  "language_info": {
   "codemirror_mode": {
    "name": "ipython",
    "version": 3
   },
   "file_extension": ".py",
   "mimetype": "text/x-python",
   "name": "python",
   "nbconvert_exporter": "python",
   "pygments_lexer": "ipython3",
   "version": "3.6.1"
  }
 },
 "nbformat": 4,
 "nbformat_minor": 2
}
