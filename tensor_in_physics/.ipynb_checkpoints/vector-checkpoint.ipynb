{
 "cells": [
  {
   "cell_type": "markdown",
   "metadata": {},
   "source": [
    "## 矢量\n",
    "---"
   ]
  },
  {
   "cell_type": "markdown",
   "metadata": {},
   "source": [
    "直观上讲，我们需要一种“既有大小，又有方向”的数学对象，暂记为 $\\mathbf{v}$ 。$\\mathbf{v}$ 至少应当可以表达现实空间中两点的相对位置。进一步，如果我们有三个点，那么我们希望存在某种求和，使得三点之间的三个 $\\mathbf{v}$ 加起来以后得到 0。\n",
    "\n",
    "要把上面这段话当成矢量的定义我是不能认同的，但是它足够说明我们对矢量的基本需求。如果把这需求严谨化，我们最终会将矢量与线性空间中的元素划等号。不过，这篇笔记想要讨论的也不是线性空间和线性空间中的数学问题（尽管这或许不可避免）。\n",
    "\n",
    "对数学对象的工具化使用容易造成对对象本身认知的迷失。常见的情况是用分量数列表达矢量，例如在现实空间中我们就经常写 $\\mathbf{r}=(x,y,z)^\\mathrm{T}$ 。这足够支撑相当一部分的计算任务，\n",
    "但是当我们这么写的时候，其实是在暗处约定了现实空间的基矢组 $\\{\\hat{\\mathbf{e}}_x,\\hat{\\mathbf{e}}_y,\\hat{\\mathbf{e}}_z\\}$ ，并且还顺带暗示了基矢的表达顺序。按理说矢量对象本身是不取决于基矢组的，而当我们变换基矢组的时候，为了保证矢量不变，其各个分量还要按照一定规律发生变化。因此，单纯采用分量数列的表达并不够robust——至少在处理旋转问题的时候这种写法很容易把使用者绊住。\n",
    "\n",
    "这篇笔记的目的，就在于总结一份可取的，有关矢量工具化使用的规范，并简单说明这些规范的合理性。\n",
    "\n",
    "另注：本篇以几何空间中的矢量为摹本写成，因此默认这些矢量之间有完善的内积定义。"
   ]
  },
  {
   "cell_type": "markdown",
   "metadata": {},
   "source": [
    "### 基矢组和分量展开"
   ]
  },
  {
   "cell_type": "markdown",
   "metadata": {},
   "source": [
    "基矢组是这样一个概念：当我们声称 $\\{\\hat{\\mathbf{e}}_1,\\hat{\\mathbf{e}}_2,\\ldots,\\hat{\\mathbf{e}}_n\\}$ 为空间 $V$ 的基矢组时，意味着 $\\hat{\\mathbf{e}}_1,\\hat{\\mathbf{e}}_2,\\ldots,\\hat{\\mathbf{e}}_n$ 的线性组合可以穷尽 $V$ 中所有的元素，同时 $\\hat{\\mathbf{e}}_1,\\hat{\\mathbf{e}}_2,\\ldots,\\hat{\\mathbf{e}}_n$ 互相之间保持线性独立。给定空间中的基矢组选取具有一定的自由度，一般倾向于选取正交归一基矢组，即要求基矢自身长度为 $1$ 并且两两正交。在选定基组后，矢量 $\\mathbf{x}$ 可以做分解\n",
    "$$\\mathbf{x}=x^1\\hat{\\mathbf{e}}_1+x^2\\hat{\\mathbf{e}}_2+\\cdots+x^n\\hat{\\mathbf{e}}_n$$\n",
    "如此得到的系数 $x^1,x^2,\\ldots,x^n$ 被称为矢量 $\\mathbf{x}$ 在基矢组 $\\{\\hat{\\mathbf{e}}_1,\\hat{\\mathbf{e}}_2,\\ldots,\\hat{\\mathbf{e}}_n\\}$ 上的分量<sup>1</sup>。分量展开提供了一种直观的矢量表达方法，通常我们可以选取具有明确物理意义或几何意义的矢量作为基矢，并在此之上展开那些相对更抽象的矢量对象。\n",
    "\n",
    "分量展开也可以写成矩阵乘法的形式，一般习惯是\n",
    "$$\\mathbf{x}=\\begin{pmatrix}\\hat{\\mathbf{e}}_1,\\hat{\\mathbf{e}}_2,\\ldots,\\hat{\\mathbf{e}}_n\\end{pmatrix}\n",
    "    \\begin{pmatrix}x^1\\\\x^2\\\\\\vdots\\\\x^n\\end{pmatrix}$$\n",
    "这个形式大概就是上面提到的直接用分量数列表示矢量的起源——省去左边的基矢组，右边刚好就是我们经常称之为“$\\mathbf{x}$ 矢量”的东西。术语上，右半部被称为“列矢量”，然而此处它应当作为“只有一列的矩阵”来理解，只要仔细推敲一下就应当意识到这个“列矢量”并不是“$V$ 空间中的元素”，因此无论我们是否赋予它矢量性，它都不能与 $V$ 空间中的矢量 $\\mathbf{x}$ 混为一谈<sup>2</sup>。\n",
    "\n",
    "#### 注：\n",
    "1. 虽然对分量采取了上标表示 $x^i$ ，但它不是乘方运算；\n",
    "2. 相应地，左边的形式被称为“行矢量”，此处同样应当被当做特殊的矩阵来理解——所以整个展开应当被理解为两个矩阵一样的东西按照矩阵的乘法规则相乘，两边都不是之前语境中的“矢量”，这个乘法也不是“内积”。"
   ]
  },
  {
   "cell_type": "markdown",
   "metadata": {},
   "source": [
    "### 基矢组的变换"
   ]
  },
  {
   "cell_type": "markdown",
   "metadata": {},
   "source": [
    "一个矢量不会因为基矢组选取的改变而变成另外一个矢量。物理学家喜欢采用矢量定律的原因就在于不希望物理规律对参考系有依赖<sup>1</sup>。\n",
    "\n",
    "重新考虑基于 $\\{\\hat{\\mathbf{e}}_1,\\hat{\\mathbf{e}}_2,\\ldots,\\hat{\\mathbf{e}}_n\\}$ 表达的矢量 $\\mathbf{x}$\n",
    "$$\\mathbf{x}=\\sum_{i}x^i\\hat{\\mathbf{e}}_i$$\n",
    "如果我们变换基矢组 $\\{\\hat{\\mathbf{e}}_1,\\hat{\\mathbf{e}}_2,\\ldots,\\hat{\\mathbf{e}}_n\\}$，那么为了保持 $\\mathbf{x}$ 本身不变，我们也必须相应变换分量组 $x^1,x^2,\\ldots,x^n$。通常可以把基矢组变换记作一个线性变换 $\\mathcal{M}$，那么相应的分量组变换的变换规则应当刚好是 $\\mathcal{M}^{-1}$。我们不妨检查，如果\n",
    "$$ \\hat{\\mathbf{e}}'_i=\\sum_{j}M_{i}^{~j}\\hat{\\mathbf{e}}_j,\n",
    "    \\quad x^{'i}=\\sum_{k}(M^{-1})^{i}_{~k}x^k $$\n",
    "则\n",
    "$$ \\sum_{i}x^{'i}\\hat{\\mathbf{e}}'_i=\\sum_{k}\\sum_{j}\\sum_{i}(M^{-1})^{i}_{~k}M_{i}^{~j}x^k\\hat{\\mathbf{e}}_j\n",
    "    =\\sum_{k}\\sum_{j}\\mathbb{1}_k^{~j}x^k\\hat{\\mathbf{e}}_j=\\sum_{l}x^{l}\\hat{\\mathbf{e}}_{l}$$\n",
    "或者更直观地，用矩阵乘法形式来表述这一关系为\n",
    "$$\\begin{pmatrix}\\hat{\\mathbf{e}}_1,\\hat{\\mathbf{e}}_2,\\ldots,\\hat{\\mathbf{e}}_n\\end{pmatrix}M\n",
    "    M^{-1}\\begin{pmatrix}x^1\\\\x^2\\\\\\vdots\\\\x^n\\end{pmatrix}\n",
    "  =\\begin{pmatrix}\\hat{\\mathbf{e}}_1,\\hat{\\mathbf{e}}_2,\\ldots,\\hat{\\mathbf{e}}_n\\end{pmatrix}\n",
    "    \\begin{pmatrix}x^1\\\\x^2\\\\\\vdots\\\\x^n\\end{pmatrix}$$\n",
    "\n",
    "#### 注：\n",
    "1. 也就是相对性原理，当然，通常相对性原理除了旋转也包括平移。"
   ]
  },
  {
   "cell_type": "markdown",
   "metadata": {},
   "source": [
    "### 协变与逆变"
   ]
  },
  {
   "cell_type": "markdown",
   "metadata": {},
   "source": [
    "通常说的逆变与协变是相对于基矢组而言的。当基矢组 $\\{\\hat{\\mathbf{e}}_1,\\hat{\\mathbf{e}}_2,\\ldots,\\hat{\\mathbf{e}}_n\\}$ 以 $\\mathcal{M}$ 做变换的时候，如果另一组量同样以 $\\mathcal{M}$ 变换，则称为协变量，反之以 $\\mathcal{M}^{-1}$ 变换的，则称为逆变量。书写规范上一般协变量的分量用下标区分（与基矢组一致），逆变量的分量用上标区分（与基矢组相反）。\n",
    "\n",
    "矢量 $\\mathbf{x}$ 的分量 $x^1,x^2,\\ldots,x^n$ 是逆变的，我们上面已经给出了验证，并且我们其实一开始就对其采用了逆变量的书写规范。协变量通常来自于空间梯度运算\n",
    "$$ \\mathbf{\\nabla}=\\sum_{i}\\sum_{j}g^{ij}\\frac{\\partial}{\\partial x^i}\\hat{\\mathbf{e}}_j $$\n",
    "其中 $g$ 是度规，而 $\\frac{\\partial}{\\partial x^i}$ 即是协变量，通常也被更加显式地表示为 $\\partial_i$。"
   ]
  },
  {
   "cell_type": "markdown",
   "metadata": {
    "collapsed": true
   },
   "source": [
    "### 度规"
   ]
  },
  {
   "cell_type": "markdown",
   "metadata": {},
   "source": []
  },
  {
   "cell_type": "code",
   "execution_count": null,
   "metadata": {
    "collapsed": true
   },
   "outputs": [],
   "source": []
  }
 ],
 "metadata": {
  "kernelspec": {
   "display_name": "Python 3",
   "language": "python",
   "name": "python3"
  },
  "language_info": {
   "codemirror_mode": {
    "name": "ipython",
    "version": 3
   },
   "file_extension": ".py",
   "mimetype": "text/x-python",
   "name": "python",
   "nbconvert_exporter": "python",
   "pygments_lexer": "ipython3",
   "version": "3.6.1"
  }
 },
 "nbformat": 4,
 "nbformat_minor": 2
}
