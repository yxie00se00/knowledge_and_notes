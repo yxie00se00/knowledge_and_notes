{
 "cells": [
  {
   "cell_type": "markdown",
   "metadata": {},
   "source": [
    "## 矢量\n",
    "---"
   ]
  },
  {
   "cell_type": "markdown",
   "metadata": {},
   "source": [
    "### 矢量简介"
   ]
  },
  {
   "cell_type": "markdown",
   "metadata": {},
   "source": [
    "矢量是线性空间中的元素。矢量有零元，支持加法和数乘。在物理学的常见语境下，我们会给相应的空间定义度规，使矢量具有“长度”，如此，矢量真正成为“既有方向，又有大小”的数学对象。\n",
    "\n",
    "为了直观地表示一个矢量，通常需要选取一套基矢组，并将被表示矢量在这套基矢组上展开。对于给定的空间 $V$，如果我们选取基矢组 \n",
    "$\\{\\hat{\\mathbf{e}}_1,\\hat{\\mathbf{e}}_2,\\ldots,\\hat{\\mathbf{e}}_n\\}$，则矢量 $\\mathbf{x}$ 的展开具有唯一形式\n",
    "$$ \\mathbf{x}=x^1\\hat{\\mathbf{e}}_1+x^2\\hat{\\mathbf{e}}_2+\\cdots+x^n\\hat{\\mathbf{e}}_n=x^i\\hat{\\mathbf{e}}_i $$\n",
    "上式中的系数 $x^1,x^2,\\ldots,x^n$ 被称为矢量 $\\mathbf{x}$ 在基矢组 $\\{\\hat{\\mathbf{e}}_1,\\hat{\\mathbf{e}}_2,\\ldots,\\hat{\\mathbf{e}}_n\\}$ 表示下的分量。\n",
    "\n",
    "我们注意到基矢组是这样一个概念：\n",
    "当我们声称 $\\{\\hat{\\mathbf{e}}_1,\\hat{\\mathbf{e}}_2,\\ldots,\\hat{\\mathbf{e}}_n\\}$ 是空间 $V$ 的基矢组时，\n",
    "意味着 $\\hat{\\mathbf{e}}_1,\\hat{\\mathbf{e}}_2,\\ldots,\\hat{\\mathbf{e}}_n$ 本身都是 $V$ 中的元素，\n",
    "它们相互之间是线性独立的，而它们的线性组合可以穷尽 $V$ 中所有其它的元素。基矢组选取原则上具有很大的自由度，但是在条件允许的情况下通常会选取正交归一的基矢组<sup>1</sup>。\n",
    "\n",
    "矢量 $\\mathbf{x}$ 的分量展开也常写作矩阵乘法的形式\n",
    "$$ \\mathbf{x}=\\begin{pmatrix}\\hat{\\mathbf{e}}_1,\\hat{\\mathbf{e}}_2,\\ldots,\\hat{\\mathbf{e}}_n\\end{pmatrix}\n",
    "    \\begin{pmatrix}x^1\\\\x^2\\\\\\vdots\\\\x^n\\end{pmatrix} $$\n",
    "很多文献中为了表达简洁会略去左边的行矢量，仅用右边的列矢量代表 $\\mathbf{x}$。无论是否这样做，使用者和读者都应当意识到这个列矢量 $(x^1,x^2,\\ldots,x^n)^\\mathrm{T}$ 与 $\\mathbf{x}$ 本身之间存在本质区别——如果我们重新选取 $V$ 空间中的基矢组，那么 $(x^1,x^2,\\ldots,x^n)^\\mathrm{T}$ 必须也随之改变，而 $\\mathbf{x}$ 则是不依赖基矢组选取的。准确来讲，“列矢量”这个概念指的是“只有一列的矩阵”。无论我们是否额外赋予其矢量性，$(x^1,x^2,\\ldots,x^n)^\\mathrm{T}$ 都至少不会是 $V$ 空间中的元素。\n",
    "\n",
    "#### 注：\n",
    "1. 这个“正交归一”是以度规正定为前提存在的，但是读者可以想象在度规非正定的空间，例如闵氏空间中，“正交归一”的称法并不合适，此时我们选取基矢组的习惯应当是使度规矩阵对角化（对应正交），并且使每一个非零对角元的绝对值为1（对应归一）。"
   ]
  },
  {
   "cell_type": "markdown",
   "metadata": {},
   "source": [
    "### 度规"
   ]
  },
  {
   "cell_type": "markdown",
   "metadata": {},
   "source": [
    "度规是计算空间中元素“间隔”的依据。物理学涉及的度规 $g$ 通常是一个二阶张量，或曰双线性型，由它给出两个矢量的内积\n",
    "$$ \\mathbf{x}\\cdot\\mathbf{y} = g(\\mathbf{x},\\mathbf{y}) $$\n",
    "度规具有对称性\n",
    "$$ g(\\mathbf{x},\\mathbf{y})=g(\\mathbf{y},\\mathbf{x}) $$\n",
    "如果我们选定了基矢组 $\\{\\hat{\\mathbf{e}}_1,\\hat{\\mathbf{e}}_2,\\ldots,\\hat{\\mathbf{e}}_n\\}$，则度规具有分量\n",
    "$$ g_{ij} = g(\\hat{\\mathbf{e}}_i, \\hat{\\mathbf{e}}_j) $$\n",
    "如此，利用度规的双线性，内积可以进一步表达为\n",
    "$$ \\mathbf{x}\\cdot\\mathbf{y} =g(x^i\\hat{\\mathbf{e}}_i, y^j\\hat{\\mathbf{e}}_j) = x^ig_{ij}y^j $$"
   ]
  },
  {
   "cell_type": "markdown",
   "metadata": {},
   "source": [
    "### 对偶"
   ]
  },
  {
   "cell_type": "markdown",
   "metadata": {},
   "source": [
    "定义 $V$ 空间中的另一套基矢组 $\\{\\hat{\\mathbf{e}}^1,\\hat{\\mathbf{e}}^2,\\ldots,\\hat{\\mathbf{e}}^n\\}$，它们与先前的 $\\{\\hat{\\mathbf{e}}_1,\\hat{\\mathbf{e}}_2,\\ldots,\\hat{\\mathbf{e}}_n\\}$ 的关系为\n",
    "$$ g^i_{~j}=g(\\hat{\\mathbf{e}}^i,\\hat{\\mathbf{e}}_j)=\\delta^i_{~j} $$\n",
    "有时称 $\\hat{\\mathbf{e}}^i$ 是 $\\hat{\\mathbf{e}}_i$ 的对偶基矢<sup>1</sup>。可以想象，只有当度规正定且原基矢组正交归一时<sup>2</sup>，对偶基矢组才与原基矢组完全重合。\n",
    "\n",
    "我们现在有了两套展开矢量 $\\mathbf{x}$ 的方案\n",
    "$$ \\mathbf{x}=x^i\\hat{\\mathbf{e}}_i=x_i\\hat{\\mathbf{e}}^i $$\n",
    "$$ x^i=g(\\hat{\\mathbf{e}}^i,\\mathbf{x}),\\quad x_i=g(\\hat{\\mathbf{e}}_i,\\mathbf{x})$$\n",
    "照这个规则，如果我们对 $\\{\\hat{\\mathbf{e}}_1,\\hat{\\mathbf{e}}_2,\\ldots,\\hat{\\mathbf{e}}_n\\}$ 与 $\\{\\hat{\\mathbf{e}}^1,\\hat{\\mathbf{e}}^2,\\ldots,\\hat{\\mathbf{e}}^n\\}$ 相互展开，就会得到\n",
    "$$ \\hat{\\mathbf{e}}^i=g^{ij}\\hat{\\mathbf{e}}_j,\\quad \\hat{\\mathbf{e}}_i=g_{ij}\\hat{\\mathbf{e}}^j $$\n",
    "由此可以导出的一个重要性质是：度规在基矢组与对偶基矢组上的分量表示互逆。我们不难给出其证明\n",
    "$$ g^{ij}g_{jk}=g(g^{ij}\\hat{\\mathbf{e}}_j, \\hat{\\mathbf{e}}_k)\n",
    "    =g(\\hat{\\mathbf{e}}^i, \\hat{\\mathbf{e}}_k)=\\delta^i_{~k} $$\n",
    "\n",
    "#### 注：\n",
    "1. 准确地讲，$\\hat{\\mathbf{e}}_i$ 的对偶基矢应当为 $V$ 上的线性型 $g(\\hat{\\mathbf{e}}^i,\\cdot)$。\n",
    "2. 在闵氏空间中，如果我们规定度规的时间分量为负，则三个空间基矢的对偶基矢与之重合，而时间基矢的对偶基矢与之反向。"
   ]
  },
  {
   "cell_type": "markdown",
   "metadata": {},
   "source": [
    "### 协变与逆变"
   ]
  },
  {
   "cell_type": "markdown",
   "metadata": {
    "collapsed": true
   },
   "source": [
    "线性空间中的基矢组变换总是可逆线性变换。当我们将变换 $M$ 施加于基矢组 $\\{\\hat{\\mathbf{e}}_1,\\hat{\\mathbf{e}}_2,\\ldots,\\hat{\\mathbf{e}}_n\\}$ 上时，任意矢量 $\\mathbf{x}$ 的分量 $x^1,x^2,\\ldots,x^n$ 也将一起经历变换 $M^{-1}$，如此才能保证 $\\mathbf{x}$ 本身不随基矢组改变。用分量表示的话，这个变换形如\n",
    "$$ \\hat{\\mathbf{e}}_i\\rightarrow \\hat{\\mathbf{e}}_jM^j_{~i},\n",
    "    \\quad x^i\\rightarrow (M^{-1})^i_{~j}x^j $$\n",
    "\n",
    "某一序列在基矢组变换下如何相应变换的问题，构成了我们讨论“协变”与“逆变”的语境。其规则是，所有变换与基矢组相同的，都称为“协变”，所有变换与基矢组相逆的，都称为“逆变”。如此，基矢组自身 $\\hat{\\mathbf{e}}_i$ 是协变的，任意矢量 $\\mathbf{x}$ 按基矢组展开的分量 $x^i$ 是逆变的。反过来，对偶基矢组 $\\hat{\\mathbf{e}}^i$ 是逆变的，任意矢量 $\\mathbf{x}$ 按对偶基矢组展开的分量 $x_i$ 是协变的。协变的另一个重要例子出现在梯度算符中\n",
    "$$ \\nabla=\\hat{\\mathbf{e}}_ig^{ij}\\frac{\\partial}{\\partial x^j} $$\n",
    "这里 $\\frac{\\partial}{\\partial x^j}$ 项是协变的，通常也写作 $\\partial_j$。\n",
    "\n",
    "可能需要指正的是，在相对论语境下我们常说某方程是 Lorentz “协变”的，这并不准确。说到底我们想表达的该方程是由 Lorentz 张量构成的，在 Lorentz 变换下（相当于闵氏空间里的一个基矢组变换），张量分量协变或逆变，而张量本身不变，方程形式得以维持。因此准确的说法是该方程 Lorentz “不变”。"
   ]
  },
  {
   "cell_type": "markdown",
   "metadata": {},
   "source": [
    "### 再谈指标的位置"
   ]
  },
  {
   "cell_type": "markdown",
   "metadata": {},
   "source": [
    "之前我们提到，对于矩阵而言，上指标为行标，下指标为列标。现在我们重新声明，当指标被用于矢量或张量的表达时，上指标指示逆变，下指标指示协变——上文中对指标的使用全部遵守了这一约定。\n",
    "\n",
    "值得一提的是，度规分量 $g^{ij}$ 和 $g_{ij}$ 可以分别用于升、降与之缩并的指标，我们上面已经见识过度规分量能使基矢组（下指标）和对偶基矢组（上指标）之间转换，而这一性质可以进一步传递到任意矢量 $\\mathbf{x}$ 在两套基矢组上的展开分量\n",
    "$$ g^{ij}x_j=g(g^{ij}\\hat{\\mathbf{e}}_j, \\mathbf{x})\n",
    "    =g(\\hat{\\mathbf{e}}^i, \\mathbf{x})=x^i $$\n",
    "$$ g_{ij}x^j=g(g_{ij}\\hat{\\mathbf{e}}^j, \\mathbf{x})\n",
    "    =g(\\hat{\\mathbf{e}}_i, \\mathbf{x})=x_i $$\n",
    "指标升降对度规自身也是有效的，利用我们之前的结论和规定，不难写出\n",
    "$$ g^{ij}g_{jk}=\\delta^i_{~k}=g^{i}_{~k} $$\n",
    "利用度规分量，我们可以很方便地切换任意张量分量的变换属性。"
   ]
  },
  {
   "cell_type": "markdown",
   "metadata": {},
   "source": [
    "### 附：术语的中英文对照表"
   ]
  },
  {
   "cell_type": "markdown",
   "metadata": {},
   "source": [
    "| 中文           | 英文           |\n",
    "| ------------- |:-------------:|\n",
    "| 矢量           | vector        |\n",
    "| 基矢组         | basis         |\n",
    "| 对偶基矢组      | dual basis         |\n",
    "| 线性空间        | linear space       |\n",
    "| 线性独立        | linearly independent         |\n",
    "| 正交归一        | orthonormal   |\n",
    "| 度规           | metric |\n",
    "| 内积           | inner product   |\n",
    "| 线性型         | linear form        |\n",
    "| 双线性型        | bilinear form |\n",
    "| 协变           | covariant     |\n",
    "| 逆变           | contravariant |\n",
    "| 不变           | invariant       |\n",
    "| 闵氏空间        | minkowski space   |"
   ]
  }
 ],
 "metadata": {
  "kernelspec": {
   "display_name": "Python 3",
   "language": "python",
   "name": "python3"
  },
  "language_info": {
   "codemirror_mode": {
    "name": "ipython",
    "version": 3
   },
   "file_extension": ".py",
   "mimetype": "text/x-python",
   "name": "python",
   "nbconvert_exporter": "python",
   "pygments_lexer": "ipython3",
   "version": "3.6.1"
  }
 },
 "nbformat": 4,
 "nbformat_minor": 2
}
