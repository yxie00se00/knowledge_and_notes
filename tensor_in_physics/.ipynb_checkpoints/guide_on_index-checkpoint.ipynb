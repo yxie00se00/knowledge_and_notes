{
 "cells": [
  {
   "cell_type": "markdown",
   "metadata": {},
   "source": [
    "# 指标使用指南\n",
    "---"
   ]
  },
  {
   "cell_type": "markdown",
   "metadata": {},
   "source": [
    "### 指标表示与爱因斯坦求和规则"
   ]
  },
  {
   "cell_type": "markdown",
   "metadata": {},
   "source": [
    "指标可以被用于任何需要表达分量顺序的场合，最基本的情况是表达行向量和列向量\n",
    "$$ w=\\begin{pmatrix}w_1,w_2,\\ldots,w_n\\end{pmatrix}\n",
    "    ,\\quad v=\\begin{pmatrix}v^1\\\\v^2\\\\\\ldots\\\\v^m\\end{pmatrix}$$\n",
    "注意行向量分量的指标一般是下标，而列向量分量的指标一般是上标<sup>1</sup>。如果需要表达一个矩阵，与之类似，采用“行上标，列下标”的形式\n",
    "$$ M=\\begin{pmatrix}\n",
    "        M^1_{~1} & M^1_{~2} & \\cdots & M^1_{~n} \\\\\n",
    "        M^2_{~1} & M^2_{~2} & \\cdots & M^2_{~n} \\\\\n",
    "        \\vdots   & \\vdots   & \\ddots & \\vdots   \\\\\n",
    "        M^n_{~1} & M^n_{~2} & \\cdots & M^n_{~n}\n",
    "    \\end{pmatrix} $$\n",
    "当我们需要进行矩阵乘法时，我们对各个分量实施数乘并求和，例如点积\n",
    "$$ w\\cdot v = \\sum_{i=1}^nw_iv^i $$\n",
    "爱因斯坦求和规则指的是，当我们看到相乘的两项各带一个上指标和一个下指标，且两指标相同时，默认对该指标求和，因此略去对该指标的求和号。上式因此可以写得更紧凑\n",
    "$$ w\\cdot v = w_iv^i $$\n",
    "求和后指标 $i$ 消失，因此我们也可以把它写作 $j,k,l$ 或者其它任意的字母，这样的指标被称为“哑指标”，而通过求和消去一对哑指标的过程在张量层面被称作“缩并”。如果我们让矩阵参与运算\n",
    "$$ (Mv)^i = M^i_{~j}v^j,\\quad (wM)_i=w_jM^j_{~i} \\\\ \n",
    "    (MN)^i_{~j}=M^i_{~k}N^k_{~j}, \\quad\\mathrm{Tr}(M)=M^i_{~i} $$\n",
    "指标表示与爱因斯坦求和规则的作用随着所处理张量阶数的增加而显著，在处理三阶及以上的张量时几乎成为必选手段<sup>2</sup>。高阶张量通常难以在纸面上直观表现，而相关的乘法也通常导致多重求和，此时指标表示使理解它们的运算性质变为可能，同时爱因斯坦求和规则大大简化了书写。\n",
    "\n",
    "#### 注：\n",
    "1. 这是照顾到张量分析中“协变”和“逆变”的区分，但是很多场合下需求并不那么严格，例如常见的三维欧式空间中，正交归一基的选取使得度规为 $\\delta_{ij}$，此时不作区分是较为方便的，常见的做法是统一使用下标\n",
    "2. 矩阵可以被视为二阶张量的一种表示，行向量、列向量对应一阶张量，而单独的数字对应零阶张量，张量阶数与表示该张量所需的指标数量是一致的"
   ]
  },
  {
   "cell_type": "markdown",
   "metadata": {},
   "source": [
    "### Kronecker $\\delta$ 与 Levi-Civita $\\epsilon$"
   ]
  },
  {
   "cell_type": "markdown",
   "metadata": {},
   "source": [
    "Kronecker $\\delta$ 与 Levi-Civita $\\epsilon$ 是在欧氏空间指标运算中十分常见的符号，它们的定义是\n",
    "$$ \\delta_{ij}=\\begin{cases}\n",
    "        1 & \\textrm{if } i=j \\\\\n",
    "        0 & \\textrm{if } i\\neq j\n",
    "    \\end{cases}\n",
    "    ,\\quad\n",
    "    \\epsilon_{i_1i_2\\ldots i_n}=\\begin{cases}\n",
    "        1 & \\textrm{if } i_1,i_2,\\ldots,i_n \\textrm{ are an even pertubation of } 1,2,\\ldots,n \\\\\n",
    "        -1 & \\textrm{if } i_1,i_2,\\ldots,i_n \\textrm{ are an odd pertubation of } 1,2,\\ldots,n \\\\\n",
    "        0 & \\textrm{if there exists such a pair of $k,l$ that } i_k=i_l\n",
    "    \\end{cases} $$\n",
    "对于选取了正交归一基的欧式空间，指标作为上标或者下标出现时是等价的，我们可以随意升降 $\\delta$ 和 $\\epsilon$ 的指标而不影响其所代表的数值。对于我们熟悉的三维欧氏空间，内积和向量积可以分别表示为\n",
    "$$ A\\cdot B=\\delta_{ij}A^iB^j,\\quad (A\\times B)^i=\\epsilon^i_{~jk}A^jB^k $$\n",
    "这使很多复杂的向量复合乘法的化简过程变得简单紧凑，例如著名的三重积\n",
    "$$\\begin{align}\\big(A\\times (B\\times C)\\big)^i&=\\epsilon^i_{~jk}A^j(B\\times C)^k\n",
    "    =\\epsilon^i_{~jk}\\epsilon^k_{~lm}A^jB^lC^m \\\\\n",
    "    &=\\delta^i_{~l}\\delta_{jm}A^jB^lC^m-\\delta^i_{~m}\\delta_{jl}A^jB^lC^m \\\\\n",
    "    &=B^i(A\\cdot C)-C^i(A\\cdot B)\n",
    "\\end{align}$$\n",
    "也就是\n",
    "$$ A\\times (B\\times C)=B~(A\\cdot C)-C~(A\\cdot B) $$\n",
    "这里面用到了两个 $\\epsilon$ 缩并化为一串 $\\delta$ 的技巧\n",
    "$$ \\epsilon_{ijk}\\epsilon^{ilm}=\\delta_j^{~l}\\delta_k^{~m}-\\delta_j^{~m}\\delta_k^{~l} $$\n",
    "如果我们引入广义 Kronecker $\\delta$\n",
    "$$ \\delta^{i_1i_2\\ldots i_p}_{j_1j_2\\ldots j_p}=\\begin{cases}\n",
    "        1 & \\textrm{if $i_1,i_2,\\ldots,i_p$ are distinct and are an even pertubation of $j_1,j_2,\\ldots,j_p$ } \\\\\n",
    "        -1 & \\textrm{if $i_1,i_2,\\ldots,i_p$ are distinct and are an odd pertubation of $j_1,j_2,\\ldots,j_p$ } \\\\\n",
    "        0 & \\textrm{in all other cases}\n",
    "    \\end{cases}$$\n",
    "那么高维 $\\epsilon$ 之间的缩并可以总结为\n",
    "$$ \\epsilon_{i_1\\ldots i_p,j_{1}\\ldots j_{n-p}}\\epsilon^{i_1\\ldots i_p,k_{1}\\ldots k_{n-p}}=p!~\\delta^{k_{1}\\ldots k_{n-p}}_{j_{1}\\ldots j_{n-p}} $$\n",
    "这在处理矩阵行列式、子式和代数余子式以及它们之间的乘法时非常有用。此时矩阵 $M$ 的行列式、子式和代数余子式可以分别表达为\n",
    "$$ \\begin{align}\n",
    "    \\det(M)&=\\delta^{j_1j_2\\ldots j_n}_{i_1i_2\\ldots i_n}M^{i_1}_{~j_1}M^{i_2}_{~j_2}\\cdots M^{i_n}_{~j_n} \\\\\n",
    "    \\det\\Big(M^{i_1i_2\\ldots i_p}_{j_1j_2\\ldots j_p}\\Big)&=\\delta^{k_1k_2\\ldots k_p}_{j_1j_2\\ldots j_p}M^{i_1}_{~k_1}M^{i_2}_{~k_p}\\cdots M^{i_p}_{~k_p} \\\\\n",
    "    \\det\\Big(M^\\overline{i_1i_2\\ldots i_p}_\\overline{j_1j_2\\ldots j_p}\\Big)&=\\frac{1}{(n-p)!}\\epsilon^{i_1i_2\\ldots i_p}_{k_1k_2\\ldots k_{n-p}}\\epsilon^{l_1l_2\\ldots l_{n-p}}_{j_1j_2\\ldots j_p}M^{k_1}_{~l_1}M^{k_2}_{~l_2}\\cdots M^{k_{n-p}}_{~l_{n-p}}\n",
    "\\end{align} $$\n",
    "有兴趣的读者不妨尝试据此证明\n",
    "$$ \\det|M| = \\frac{1}{p!}\\sum_{\\substack{i_1,i_2,\\ldots,i_p\\\\j_1,j_2,\\ldots,j_p}}\\det\\Big(M^{i_1i_2\\ldots i_p}_{j_1j_2\\ldots j_p}\\Big)\\det\\Big(M^\\overline{i_1i_2\\ldots i_p}_\\overline{j_1j_2\\ldots j_p}\\Big) $$\n",
    "其中 $p!$ 因子的出现是为了消除重复排列。"
   ]
  },
  {
   "cell_type": "markdown",
   "metadata": {},
   "source": [
    "### 附：术语的中英文对照表"
   ]
  },
  {
   "cell_type": "markdown",
   "metadata": {},
   "source": [
    "| 中文           | 英文           |\n",
    "| ------------- |:-------------:|\n",
    "| 指标           | index         |\n",
    "| 哑指标         | dummy index   |\n",
    "| 爱因斯坦求和规则 | Einstein notation |\n",
    "| 缩并           | contraction   |\n",
    "| （张量的）阶    | order (of a tensor) |\n",
    "| 点积           | dot product   |\n",
    "| 内积           | inner product |\n",
    "| 向量积         | vector product|\n",
    "| 三重积         | triple product |\n",
    "| 欧氏空间        | Euclidean space |\n",
    "| 协变           | covariant     |\n",
    "| 逆变           | contravariant |\n",
    "| 度规           | metric        |\n",
    "| 行列式         | determinant   |\n",
    "| 子式           | minor         |\n",
    "| 余子式         | complement    |"
   ]
  },
  {
   "cell_type": "code",
   "execution_count": null,
   "metadata": {
    "collapsed": true
   },
   "outputs": [],
   "source": []
  }
 ],
 "metadata": {
  "kernelspec": {
   "display_name": "Python 3",
   "language": "python",
   "name": "python3"
  },
  "language_info": {
   "codemirror_mode": {
    "name": "ipython",
    "version": 3
   },
   "file_extension": ".py",
   "mimetype": "text/x-python",
   "name": "python",
   "nbconvert_exporter": "python",
   "pygments_lexer": "ipython3",
   "version": "3.6.1"
  }
 },
 "nbformat": 4,
 "nbformat_minor": 2
}
